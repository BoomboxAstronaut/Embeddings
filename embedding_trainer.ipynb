{
 "cells": [
  {
   "cell_type": "code",
   "execution_count": 1,
   "metadata": {},
   "outputs": [],
   "source": [
    "import torch\n",
    "import numpy as np\n",
    "import pickle\n",
    "\n",
    "from torch import nn\n"
   ]
  },
  {
   "cell_type": "code",
   "execution_count": 2,
   "metadata": {},
   "outputs": [],
   "source": [
    "with open(r'D:\\dstore\\nlp\\w2v\\train1-1', 'rb') as f:\n",
    "    trainx = pickle.load(f)\n"
   ]
  },
  {
   "cell_type": "code",
   "execution_count": 11,
   "metadata": {},
   "outputs": [],
   "source": [
    "\n",
    "\n",
    "class Embedding_Trainer:\n",
    "    def __init__(self, dataset):\n",
    "        self.model = model.to('cuda')\n",
    "        self.dataset = dataset\n",
    "        self.lossfn = nn.BCEWithLogitsLoss(reduction='none')\n",
    "        self.optimizer = torch.optim.NAdam()\n",
    "        self.core_vecs = nn.Embedding(6000000, 256)\n",
    "        self.delta_vecs = nn.Embedding(6000000, 256)\n",
    "\n",
    "    def tensor_batch(self, bsize):\n",
    "        while len(trainx) >= bsize:\n",
    "            hold = []\n",
    "            for x in range(bsize):\n",
    "                hold.append(trainx.pop())\n",
    "            focus, contrast = [], []\n",
    "            for x in hold:\n",
    "                focus.append(x[0])\n",
    "                contrast.append([*x[1], *x[2]])\n",
    "            yield (\n",
    "                torch.bmm(self.core_vecs(torch.tensor(focus).reshape(-1, 1)), self.delta_vecs(torch.tensor(comparisons)).permute(0, 2, 1).type(torch.FloatTensor)), \n",
    "                torch.tensor([[1, 1, 1, 1, 0, 0, 0, 0] for _ in range(bsize)]).reshape(-1, 1, 8).type(torch.FloatTensor)\n",
    "            )\n",
    "\n",
    "    def train(self):\n",
    "        dgen = self.tensor_batch(1024)\n",
    "        while True:\n",
    "            tdata, labels = dgen.__next__()\n",
    "            loss = self.lossfn(tdata, labels)\n",
    "            loss.backward()\n",
    "            self.optimizer.step()\n",
    "\n",
    "\n",
    "\n",
    "\n",
    "\n",
    "\n"
   ]
  },
  {
   "cell_type": "code",
   "execution_count": 12,
   "metadata": {},
   "outputs": [],
   "source": [
    "test = tensor_batch(512)\n"
   ]
  },
  {
   "cell_type": "code",
   "execution_count": 13,
   "metadata": {},
   "outputs": [],
   "source": [
    "sample = test.__next__()"
   ]
  },
  {
   "cell_type": "code",
   "execution_count": 14,
   "metadata": {},
   "outputs": [
    {
     "data": {
      "text/plain": [
       "torch.Size([512, 1, 8])"
      ]
     },
     "execution_count": 14,
     "metadata": {},
     "output_type": "execute_result"
    }
   ],
   "source": [
    "torch.bmm(sample[0], sample[1].permute(0, 2, 1)).shape"
   ]
  },
  {
   "cell_type": "code",
   "execution_count": 15,
   "metadata": {},
   "outputs": [
    {
     "data": {
      "text/plain": [
       "torch.Size([512, 1, 8])"
      ]
     },
     "execution_count": 15,
     "metadata": {},
     "output_type": "execute_result"
    }
   ],
   "source": [
    "sample[2].shape"
   ]
  },
  {
   "cell_type": "code",
   "execution_count": 23,
   "metadata": {},
   "outputs": [
    {
     "data": {
      "text/plain": [
       "tensor([1.8026e-02, 8.9016e-01, 2.5536e+00, 2.8011e-03, 4.0764e+00, 6.2964e-01,\n",
       "        1.0513e+00, 1.5590e+00], grad_fn=<SelectBackward0>)"
      ]
     },
     "execution_count": 23,
     "metadata": {},
     "output_type": "execute_result"
    }
   ],
   "source": [
    "loss(torch.bmm(sample[0], sample[1].permute(0, 2, 1)).type(torch.FloatTensor), sample[2].type(torch.FloatTensor))[0]"
   ]
  },
  {
   "cell_type": "code",
   "execution_count": 28,
   "metadata": {},
   "outputs": [
    {
     "data": {
      "text/plain": [
       "tensor(6635.1343, grad_fn=<SumBackward0>)"
      ]
     },
     "execution_count": 28,
     "metadata": {},
     "output_type": "execute_result"
    }
   ],
   "source": [
    "loss2(torch.bmm(sample[0], sample[1].permute(0, 2, 1)).type(torch.FloatTensor), sample[2].type(torch.FloatTensor)).sum()"
   ]
  }
 ],
 "metadata": {
  "kernelspec": {
   "display_name": "Python 3.10.4 64-bit",
   "language": "python",
   "name": "python3"
  },
  "language_info": {
   "codemirror_mode": {
    "name": "ipython",
    "version": 3
   },
   "file_extension": ".py",
   "mimetype": "text/x-python",
   "name": "python",
   "nbconvert_exporter": "python",
   "pygments_lexer": "ipython3",
   "version": "3.10.4"
  },
  "orig_nbformat": 4,
  "vscode": {
   "interpreter": {
    "hash": "a5a031010b1865a23c8ecad84a31bb65ec3bf0e64be1ddea340d48586579fa20"
   }
  }
 },
 "nbformat": 4,
 "nbformat_minor": 2
}
