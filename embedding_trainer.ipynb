{
 "cells": [
  {
   "cell_type": "code",
   "execution_count": 6,
   "metadata": {},
   "outputs": [],
   "source": [
    "import torch\n",
    "import numpy as np\n",
    "import pickle\n",
    "\n",
    "from torch import nn\n"
   ]
  },
  {
   "cell_type": "code",
   "execution_count": 2,
   "metadata": {},
   "outputs": [],
   "source": [
    "with open(r'D:\\dstore\\nlp\\w2v\\train1-1.npy', 'rb') as f:\n",
    "    trainx = np.load(f)\n"
   ]
  },
  {
   "cell_type": "code",
   "execution_count": 4,
   "metadata": {},
   "outputs": [],
   "source": [
    "trainx = [(x[0], *x[1], *x[2]) for x in trainx]"
   ]
  },
  {
   "cell_type": "code",
   "execution_count": 7,
   "metadata": {},
   "outputs": [],
   "source": [
    "trainx = np.array(trainx, dtype=np.uint32)"
   ]
  },
  {
   "cell_type": "code",
   "execution_count": 10,
   "metadata": {},
   "outputs": [],
   "source": [
    "with open(r'D:\\dstore\\nlp\\w2v\\train1-1.npy', 'wb') as f:\n",
    "    np.save(f, trainx)"
   ]
  },
  {
   "cell_type": "code",
   "execution_count": 2,
   "metadata": {},
   "outputs": [],
   "source": [
    "with open(r'D:\\dstore\\nlp\\w2v\\debug_data', 'rb') as f:\n",
    "    trainx = pickle.load(f)"
   ]
  },
  {
   "cell_type": "code",
   "execution_count": 3,
   "metadata": {},
   "outputs": [],
   "source": [
    "\n",
    "\n",
    "class Embers(nn.Module):\n",
    "\n",
    "    def __init__(self, vocab_size, emb_complexity):\n",
    "        torch.manual_seed(1024)\n",
    "        super(Embers, self).__init__()\n",
    "        self.focus = nn.Embedding(vocab_size, emb_complexity)\n",
    "        self.contrast = nn.Embedding(vocab_size, emb_complexity)\n",
    "\n",
    "    def new(self):\n",
    "        self.apply(nn.init.xavier_uniform_(self.focus.weight))\n",
    "        self.apply(nn.init.xavier_uniform_(self.contrast.weight))\n",
    "        #self.core_vecs = self.core_vecs.to('cuda')\n",
    "        #self.delta_vecs = self.delta_vecs.to('cuda')\n",
    "\n",
    "\n",
    "class Embedding_Trainer:\n",
    "    def __init__(self, dataset):\n",
    "        self.dataset = dataset\n",
    "        self.emb = Embers(6000000, 128)\n",
    "        self.lossfn = nn.BCEWithLogitsLoss(reduction='none')\n",
    "        self.optimizer = torch.optim.NAdam(self.emb.parameters())\n",
    "\n",
    "    def tensor_batch(self, bsize):\n",
    "        while len(self.dataset) >= bsize:\n",
    "            hold = []\n",
    "            for x in range(bsize):\n",
    "                hold.append(self.dataset.pop())\n",
    "            fpack, cpack = [], []\n",
    "            for x in hold:\n",
    "                fpack.append(x[0])\n",
    "                cpack.append([*x[1], *x[2]])\n",
    "            yield (\n",
    "                torch.bmm(self.emb.focus(torch.tensor(fpack).reshape(-1, 1)), self.emb.contrast(torch.tensor(cpack)).permute(0, 2, 1)).type(torch.FloatTensor), \n",
    "                torch.tensor([[1, 1, 1, 1, 0, 0, 0, 0] for _ in range(bsize)]).reshape(-1, 1, 8).type(torch.FloatTensor)\n",
    "            )\n",
    "\n",
    "    def train(self):\n",
    "        dgen = self.tensor_batch(1)\n",
    "        while True:\n",
    "            tdata, labels = dgen.__next__()\n",
    "            loss = self.lossfn(tdata, labels)\n",
    "            loss.sum().backward()\n",
    "            self.optimizer.step()\n",
    "            self.optimizer.zero_grad()\n",
    "            break\n",
    "\n"
   ]
  },
  {
   "cell_type": "code",
   "execution_count": 4,
   "metadata": {},
   "outputs": [],
   "source": [
    "emtrain = Embedding_Trainer(trainx)"
   ]
  },
  {
   "cell_type": "code",
   "execution_count": 3,
   "metadata": {},
   "outputs": [],
   "source": [
    "te1 = nn.Embedding(6000000, 128)\n",
    "te2 = nn.Embedding(6000000, 128)\n",
    "t1 = te1(torch.tensor(trainx[1][0], dtype=torch.int64))\n",
    "t2 = te2(torch.tensor(trainx[1][1], dtype=torch.int64))"
   ]
  },
  {
   "cell_type": "code",
   "execution_count": 23,
   "metadata": {},
   "outputs": [
    {
     "data": {
      "text/plain": [
       "tensor([1.8026e-02, 8.9016e-01, 2.5536e+00, 2.8011e-03, 4.0764e+00, 6.2964e-01,\n",
       "        1.0513e+00, 1.5590e+00], grad_fn=<SelectBackward0>)"
      ]
     },
     "execution_count": 23,
     "metadata": {},
     "output_type": "execute_result"
    }
   ],
   "source": [
    "loss(torch.bmm(sample[0], sample[1].permute(0, 2, 1)).type(torch.FloatTensor), sample[2].type(torch.FloatTensor))[0]"
   ]
  },
  {
   "cell_type": "code",
   "execution_count": 28,
   "metadata": {},
   "outputs": [
    {
     "data": {
      "text/plain": [
       "tensor(6635.1343, grad_fn=<SumBackward0>)"
      ]
     },
     "execution_count": 28,
     "metadata": {},
     "output_type": "execute_result"
    }
   ],
   "source": [
    "loss2(torch.bmm(sample[0], sample[1].permute(0, 2, 1)).type(torch.FloatTensor), sample[2].type(torch.FloatTensor)).sum()"
   ]
  },
  {
   "cell_type": "code",
   "execution_count": 5,
   "metadata": {},
   "outputs": [],
   "source": [
    "emtrain.train()"
   ]
  }
 ],
 "metadata": {
  "kernelspec": {
   "display_name": "Python 3.10.4 64-bit",
   "language": "python",
   "name": "python3"
  },
  "language_info": {
   "codemirror_mode": {
    "name": "ipython",
    "version": 3
   },
   "file_extension": ".py",
   "mimetype": "text/x-python",
   "name": "python",
   "nbconvert_exporter": "python",
   "pygments_lexer": "ipython3",
   "version": "3.10.4"
  },
  "orig_nbformat": 4,
  "vscode": {
   "interpreter": {
    "hash": "a5a031010b1865a23c8ecad84a31bb65ec3bf0e64be1ddea340d48586579fa20"
   }
  }
 },
 "nbformat": 4,
 "nbformat_minor": 2
}
