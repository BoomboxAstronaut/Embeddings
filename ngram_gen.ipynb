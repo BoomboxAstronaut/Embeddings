{
 "cells": [
  {
   "cell_type": "code",
   "execution_count": 1,
   "metadata": {},
   "outputs": [],
   "source": [
    "import numpy as np\n",
    "import collections\n",
    "import matplotlib.pyplot as plt"
   ]
  },
  {
   "cell_type": "code",
   "execution_count": 2,
   "metadata": {},
   "outputs": [],
   "source": [
    "\n",
    "base_counts = collections.Counter()\n",
    "with open(r'D:\\dstore\\nlp\\wcounts', 'rt', encoding='utf8') as f:\n",
    "    for x in f.readlines():\n",
    "        x = x.strip('\\n').split()\n",
    "        base_counts[x[1]] += int(x[0])\n",
    "\n",
    "\n",
    "def count_engrams(en: int) -> tuple[np.ndarray, list[str]]:\n",
    "    encounts = collections.Counter()\n",
    "    if -(en - 1) == 0:\n",
    "        finish_point = None\n",
    "    else:\n",
    "        finish_point = -(en - 1)\n",
    "    for x in base_counts:\n",
    "        nletters = len(x)\n",
    "        if nletters < en:\n",
    "            continue\n",
    "        elif nletters == en:\n",
    "            encounts[f'_{x}_'] = base_counts[x]\n",
    "        else:\n",
    "            for i, _ in enumerate(x[:finish_point]):\n",
    "                if i == 0:\n",
    "                    encounts[f'_{x[i:i+en]}'] += base_counts[x]\n",
    "                elif i == nletters - en:\n",
    "                    encounts[f'{x[i:i+en]}_'] += base_counts[x]\n",
    "                else:\n",
    "                    encounts[x[i:i+en]] += base_counts[x]\n",
    "    return encounts\n"
   ]
  },
  {
   "cell_type": "code",
   "execution_count": 80,
   "metadata": {},
   "outputs": [],
   "source": [
    "ngrams = []\n",
    "for z in range(1, 11):\n",
    "    ngrams.append(count_engrams(z))\n",
    "ngrams[0] = {k: v for k, v in ngrams[0].items() if '_' in k}\n",
    "ngrams = {k:v for y in ngrams for k, v in y.items()}\n",
    "ngrams = collections.Counter(ngrams)\n",
    "full_words = [(k, v) for k, v in ngrams.items() if k[0] == '_' and k[-1] == '_' and len(k) > 3]\n",
    "\n",
    "for w in full_words:\n",
    "    targets = []\n",
    "    wlen = len(w[0])\n",
    "    for j in range(wlen - 3):\n",
    "        targets.append(w[0][2+j:])\n",
    "        targets.append(w[0][:-(j+2)])\n",
    "    for k in range(wlen - 4, 1, -1): #Width of word\n",
    "        for l in range(2, wlen - k - 1): #Number of k-width words in target\n",
    "            targets.append(w[0][l:l+k])\n",
    "    for y in targets:\n",
    "        ngrams[y] -= w[1]\n",
    "\n",
    "ngrams = collections.Counter({k: v for k, v in ngrams.items() if v > 9})\n",
    "ngarr = np.array([x[1] for x in ngrams.most_common()])"
   ]
  },
  {
   "cell_type": "code",
   "execution_count": 81,
   "metadata": {},
   "outputs": [
    {
     "data": {
      "text/plain": [
       "(array([408735., 333196., 279714., 234960., 203561., 178037., 155569.,\n",
       "        139579., 125759., 115077., 102999.,  94201.,  86809.,  80279.,\n",
       "         73494.,  68389.,  63834.,  59625.,  55953.,  53258.,  49266.,\n",
       "         46476.,  44478.,  42652.,  39902.,  37802.,  35859.,  33375.,\n",
       "         32933.,  31292.,  29811.,  28686.,  27165.,  26422.,  25135.,\n",
       "         24183.,  23425.,  22137.,  21452.,  21285.,  19770.,  19444.,\n",
       "         18870.,  17677.,  17318.,  17239.,  16378.,  16212.,  15668.,\n",
       "         15002.,  14427.,  13917.,  13933.,  13212.,  12923.,  12792.,\n",
       "         12104.,  11951.,  12141.,  11517.,  10930.,  11082.,  20955.]),\n",
       " array([ 7,  8,  9, 10, 11, 12, 13, 14, 15, 16, 17, 18, 19, 20, 21, 22, 23,\n",
       "        24, 25, 26, 27, 28, 29, 30, 31, 32, 33, 34, 35, 36, 37, 38, 39, 40,\n",
       "        41, 42, 43, 44, 45, 46, 47, 48, 49, 50, 51, 52, 53, 54, 55, 56, 57,\n",
       "        58, 59, 60, 61, 62, 63, 64, 65, 66, 67, 68, 69, 70]),\n",
       " <BarContainer object of 63 artists>)"
      ]
     },
     "execution_count": 81,
     "metadata": {},
     "output_type": "execute_result"
    },
    {
     "data": {
      "image/png": "[encoded data removed]",
      "text/plain": [
       "<Figure size 1152x648 with 1 Axes>"
      ]
     },
     "metadata": {},
     "output_type": "display_data"
    }
   ],
   "source": [
    "fig = plt.figure(figsize=(16, 9))\n",
    "plt.hist(ngarr, range(7, 71))\n",
    "#Power Law"
   ]
  },
  {
   "cell_type": "code",
   "execution_count": 20,
   "metadata": {},
   "outputs": [
    {
     "name": "stdout",
     "output_type": "stream",
     "text": [
      "mean 782.3403755524849\n",
      "std 84144.36834555096\n",
      "se 28.4584803165284\n"
     ]
    }
   ],
   "source": [
    "print('mean', np.mean(ngarr))\n",
    "print('std', np.std(ngarr))\n",
    "print('se', np.std(ngarr)/np.sqrt(len(ngarr)))"
   ]
  },
  {
   "cell_type": "code",
   "execution_count": 89,
   "metadata": {},
   "outputs": [
    {
     "data": {
      "text/plain": [
       "50659.88763663736"
      ]
     },
     "execution_count": 89,
     "metadata": {},
     "output_type": "execute_result"
    }
   ],
   "source": [
    "means = []\n",
    "devs =[]\n",
    "\n",
    "for x in range(512):\n",
    "    sample = np.random.choice(ngarr, 32768)\n",
    "    means.append(np.mean(sample))\n",
    "    devs.append(np.std(sample))\n",
    "\n",
    "means = np.array(sorted(means))\n",
    "devs = np.array(sorted(devs))\n",
    "iqr = means[int(len(means) * 0.75)] - means[int(len(means) * 0.25)]\n",
    "\n",
    "temp = [x / 32768**0.5 for x in devs]\n",
    "np.mean(devs)\n"
   ]
  },
  {
   "cell_type": "code",
   "execution_count": null,
   "metadata": {},
   "outputs": [],
   "source": [
    "bincount = int((means.max() - means.min()) / (2 * iqr * 512 ** -0.3333))\n",
    "fig = plt.figure(figsize=(16, 9))\n",
    "plt.hist(means, range(bincount))"
   ]
  }
 ],
 "metadata": {
  "kernelspec": {
   "display_name": "Python 3.10.4 64-bit",
   "language": "python",
   "name": "python3"
  },
  "language_info": {
   "codemirror_mode": {
    "name": "ipython",
    "version": 3
   },
   "file_extension": ".py",
   "mimetype": "text/x-python",
   "name": "python",
   "nbconvert_exporter": "python",
   "pygments_lexer": "ipython3",
   "version": "3.10.4"
  },
  "orig_nbformat": 4,
  "vscode": {
   "interpreter": {
    "hash": "a5a031010b1865a23c8ecad84a31bb65ec3bf0e64be1ddea340d48586579fa20"
   }
  }
 },
 "nbformat": 4,
 "nbformat_minor": 2
}
