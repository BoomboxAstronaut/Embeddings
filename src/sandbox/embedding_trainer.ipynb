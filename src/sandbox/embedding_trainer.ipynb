{
 "cells": [
  {
   "cell_type": "code",
   "execution_count": 1,
   "metadata": {},
   "outputs": [],
   "source": [
    "import torch\n",
    "import numpy as np\n",
    "\n",
    "from torch import nn\n",
    "from torch.utils.data import DataLoader\n",
    "from torch.cuda.amp.autocast_mode import autocast\n",
    "from torch.cuda.amp.grad_scaler import GradScaler\n",
    "from torch.utils.tensorboard.writer import SummaryWriter\n"
   ]
  },
  {
   "cell_type": "code",
   "execution_count": 2,
   "metadata": {},
   "outputs": [],
   "source": [
    "#Embeddings and Trainer\n",
    "\n",
    "class Embers(nn.Module):\n",
    "\n",
    "    def __init__(self, vocab_size, emb_complexity):\n",
    "        torch.manual_seed(1024)\n",
    "        super(Embers, self).__init__()\n",
    "        self.focus = nn.Embedding(vocab_size, emb_complexity)\n",
    "        self.contrast = nn.Embedding(vocab_size, emb_complexity)\n",
    "        nn.init.xavier_uniform_(self.focus.weight)\n",
    "        nn.init.xavier_uniform_(self.contrast.weight)\n",
    "\n",
    "    def forward(self, inp):\n",
    "        x, xc = torch.hsplit(inp, (1,))\n",
    "        x = self.focus(x)\n",
    "        xc = self.contrast(xc)\n",
    "        return torch.bmm(x, xc.permute(0, 2, 1))\n",
    "\n",
    "\n",
    "class Embedding_Trainer:\n",
    "\n",
    "    def __init__(self, dataset, data_group, batch_size, vocab_size, embedding_complexity, previous_batches):\n",
    "        self.previous_batches = previous_batches\n",
    "        self.data_group = data_group\n",
    "        if data_group[1] == 1:\n",
    "            last_group = (data_group[0]-1, 2)\n",
    "        else:\n",
    "            last_group = (data_group[0], 1)\n",
    "        self.batch_size = batch_size\n",
    "        self.data_size = len(dataset)\n",
    "        self.tdata = DataLoader(dataset, batch_size=self.batch_size, shuffle=True)\n",
    "        self.emb = Embers(vocab_size, embedding_complexity)\n",
    "        if self.data_group != (1, 1):\n",
    "            self.emb.load_state_dict(torch.load(f'models/embeddings{last_group[0]}-{last_group[1]}'))\n",
    "        self.tblog = SummaryWriter(log_dir='C:/Users/BBA/Coding/tblogs/word_embeddings/v1.0')\n",
    "        self.emb = self.emb.to('cuda')\n",
    "        self.scaler = GradScaler()\n",
    "        self.lossfn = nn.BCEWithLogitsLoss(reduction='none')\n",
    "        self.optimizer = torch.optim.NAdam(self.emb.parameters())\n",
    "        self.ltensor = torch.tensor([[[1, 0, 1, 0, 1, 0, 1, 0]]] * self.batch_size).type(torch.FloatTensor)\n",
    "\n",
    "    def train(self):\n",
    "        self.emb.train()\n",
    "        loss_total = 0\n",
    "        batches = len(self.tdata) - 1\n",
    "        for i, datum in enumerate(self.tdata):\n",
    "            if i == batches:\n",
    "                self.ltensor = self.ltensor = torch.tensor([[[1, 0, 1, 0, 1, 0, 1, 0]]] * (self.data_size - (batches * self.batch_size))).type(torch.FloatTensor)\n",
    "            with autocast(enabled=True):\n",
    "                datum = datum.to('cuda')\n",
    "                outp = self.emb(datum)\n",
    "                loss = self.lossfn(outp.type(torch.FloatTensor), self.ltensor).sum().to('cuda')\n",
    "            self.scaler.scale(loss).backward()\n",
    "            self.scaler.step(self.optimizer)\n",
    "            self.scaler.update()\n",
    "            self.optimizer.zero_grad()\n",
    "            loss_total += loss\n",
    "            self.previous_batches += 1\n",
    "            self.tblog.add_scalar('Train Loss / Batch', loss_total / (i + 1) / self.batch_size, self.previous_batches)\n",
    "            if i > 0 and i % 2048 == 0:\n",
    "                print(f'Loss: {loss_total / i / self.batch_size}')\n",
    "        torch.save(self.emb.state_dict(), f'models/embeddings{self.data_group[0]}-{self.data_group[1]}')\n",
    "        torch.cuda.empty_cache()\n",
    "\n"
   ]
  },
  {
   "cell_type": "code",
   "execution_count": null,
   "metadata": {},
   "outputs": [],
   "source": [
    "#Training Sequence for All Data Sets\n",
    "overall_batches = 0\n",
    "\n",
    "for x in range(1, 5):\n",
    "    for y in range(1, 3):\n",
    "        data_group = f'{x}-{y}'\n",
    "        with open(f'D:\\\\dstore\\\\nlp\\\\w2v\\\\train{x}-{y}', 'rb') as f:\n",
    "            trainx = np.load(f)\n",
    "        total_batches = int(len(trainx) / 1024) + 1\n",
    "        emtrain = Embedding_Trainer(trainx, (x, y), 1024, 155000, 128, overall_batches)\n",
    "        emtrain.train()\n",
    "        overall_batches += total_batches\n",
    "        del emtrain\n",
    "        del trainx\n"
   ]
  },
  {
   "cell_type": "code",
   "execution_count": 192,
   "metadata": {},
   "outputs": [],
   "source": [
    "#Results and Word Similarity\n",
    "\n",
    "with open(r'D:\\dstore\\nlp\\w2v\\word_list_i', 'rb') as f:\n",
    "    wdct = np.load(f, allow_pickle=True)\n",
    "idct = {x[1]: x[0] for x in wdct.items()}\n",
    "\n",
    "emb = Embers(155000, 128)\n",
    "emb.load_state_dict(torch.load('models/embeddings4-2'))\n",
    "emb = emb.get_submodule('focus')\n",
    "emb.eval()\n",
    "allw = emb.weight.data\n",
    "\n",
    "def closest_words(word):\n",
    "    targetw = emb(torch.tensor(wdct[word]))\n",
    "    scores = nn.functional.cosine_similarity(targetw, allw)\n",
    "    indices = torch.topk(scores, 8)\n",
    "    for i, _ in enumerate(indices[1][1:]):\n",
    "        print(f'score: {float(indices[0][i+1]):.3f} ~ {idct[int(indices[1][i+1])]}')"
   ]
  },
  {
   "cell_type": "code",
   "execution_count": 193,
   "metadata": {},
   "outputs": [
    {
     "name": "stdout",
     "output_type": "stream",
     "text": [
      "score: 0.636 ~ eagles\n",
      "score: 0.572 ~ bisons\n",
      "score: 0.551 ~ rhinos\n",
      "score: 0.550 ~ dolphins\n",
      "score: 0.538 ~ bears\n",
      "score: 0.536 ~ panthers\n",
      "score: 0.530 ~ tigers\n"
     ]
    }
   ],
   "source": [
    "closest_words('lions')"
   ]
  },
  {
   "cell_type": "code",
   "execution_count": 194,
   "metadata": {},
   "outputs": [
    {
     "name": "stdout",
     "output_type": "stream",
     "text": [
      "score: 0.572 ~ wildcats\n",
      "score: 0.552 ~ bisons\n",
      "score: 0.549 ~ cougars\n",
      "score: 0.530 ~ lions\n",
      "score: 0.529 ~ eagles\n",
      "score: 0.521 ~ jaguars\n",
      "score: 0.516 ~ league\n"
     ]
    }
   ],
   "source": [
    "closest_words('tigers')"
   ]
  },
  {
   "cell_type": "code",
   "execution_count": 195,
   "metadata": {},
   "outputs": [
    {
     "name": "stdout",
     "output_type": "stream",
     "text": [
      "score: 0.538 ~ lions\n",
      "score: 0.532 ~ badgers\n",
      "score: 0.513 ~ devils\n",
      "score: 0.511 ~ beavers\n",
      "score: 0.494 ~ toothed\n",
      "score: 0.489 ~ notched\n",
      "score: 0.486 ~ cougars\n"
     ]
    }
   ],
   "source": [
    "closest_words('bears')"
   ]
  },
  {
   "cell_type": "code",
   "execution_count": 196,
   "metadata": {},
   "outputs": [
    {
     "name": "stdout",
     "output_type": "stream",
     "text": [
      "score: 0.505 ~ bauble\n",
      "score: 0.501 ~ hound\n",
      "score: 0.491 ~ mighty\n",
      "score: 0.486 ~ boar\n",
      "score: 0.483 ~ legend\n",
      "score: 0.483 ~ eagle\n",
      "score: 0.478 ~ statant\n"
     ]
    }
   ],
   "source": [
    "closest_words('lion')"
   ]
  },
  {
   "cell_type": "code",
   "execution_count": 197,
   "metadata": {},
   "outputs": [
    {
     "name": "stdout",
     "output_type": "stream",
     "text": [
      "score: 0.438 ~ jungle\n",
      "score: 0.438 ~ mule\n",
      "score: 0.419 ~ cheetah\n",
      "score: 0.412 ~ kota\n",
      "score: 0.412 ~ cheetal\n",
      "score: 0.411 ~ snakes\n",
      "score: 0.410 ~ bekah\n"
     ]
    }
   ],
   "source": [
    "closest_words('tiger')"
   ]
  },
  {
   "cell_type": "code",
   "execution_count": 198,
   "metadata": {},
   "outputs": [
    {
     "name": "stdout",
     "output_type": "stream",
     "text": [
      "score: 0.563 ~ wolf\n",
      "score: 0.520 ~ hyenas\n",
      "score: 0.518 ~ hoofed\n",
      "score: 0.514 ~ deer\n",
      "score: 0.511 ~ captive\n",
      "score: 0.501 ~ nyctereutes\n",
      "score: 0.497 ~ hunting\n"
     ]
    }
   ],
   "source": [
    "closest_words('bear')"
   ]
  }
 ],
 "metadata": {
  "kernelspec": {
   "display_name": "Python 3.10.4 64-bit",
   "language": "python",
   "name": "python3"
  },
  "language_info": {
   "codemirror_mode": {
    "name": "ipython",
    "version": 3
   },
   "file_extension": ".py",
   "mimetype": "text/x-python",
   "name": "python",
   "nbconvert_exporter": "python",
   "pygments_lexer": "ipython3",
   "version": "3.11.1"
  },
  "orig_nbformat": 4,
  "vscode": {
   "interpreter": {
    "hash": "a5a031010b1865a23c8ecad84a31bb65ec3bf0e64be1ddea340d48586579fa20"
   }
  }
 },
 "nbformat": 4,
 "nbformat_minor": 2
}
