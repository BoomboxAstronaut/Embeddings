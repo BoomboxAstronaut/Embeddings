{
 "cells": [
  {
   "cell_type": "code",
   "execution_count": 1,
   "metadata": {},
   "outputs": [],
   "source": [
    "import numpy as np\n",
    "import pickle\n",
    "import sys\n",
    "\n",
    "from multiprocessing import Pool\n",
    "from collections import Counter\n",
    "from tqdm import tqdm"
   ]
  },
  {
   "cell_type": "code",
   "execution_count": 2,
   "metadata": {},
   "outputs": [],
   "source": [
    "# Calculate subsampling rates\n",
    "with open(r'D:\\dstore\\nlp\\w2v\\wcounts', 'r', encoding='utf-8') as f:\n",
    "    wcounts = [x.split() for x in f.readlines()]\n",
    "wcounts = {x[1]: int(x[0]) for x in wcounts if int(x[0]) > 0}\n",
    "excess = {x[0]: (10000 / x[1]) ** 0.5 for x in wcounts.items() if x[1] > 10000}\n",
    "\n",
    "del wcounts"
   ]
  },
  {
   "cell_type": "code",
   "execution_count": 3,
   "metadata": {},
   "outputs": [],
   "source": [
    "#Subsampling Excessively Common Words\n",
    "\n",
    "rng = np.random.default_rng()\n",
    "for ft in range(1, 5):\n",
    "\n",
    "    with open(f'D:\\\\dstore\\\\nlp\\\\w2v\\\\nwiki5_{ft}', 'r', encoding='utf-8') as f:\n",
    "        words1 = [x.strip('\\n') for x in f.readlines()]\n",
    "\n",
    "    cwords = []\n",
    "    while words1:\n",
    "        hold = words1.pop().split()\n",
    "        slen = len(hold) - 1\n",
    "        for i, x in enumerate(hold[::-1]):\n",
    "            if x in excess:\n",
    "                if rng.random() > excess[x]:\n",
    "                    hold.pop(slen - i)\n",
    "        if len(hold) > 3:\n",
    "            cwords.append(hold)\n",
    "\n",
    "    with open(f'D:\\\\dstore\\\\nlp\\\\w2v\\\\vtrain{ft}', 'wb') as f:\n",
    "        pickle.dump(cwords, f)\n",
    "\n",
    "del cwords, words1"
   ]
  },
  {
   "cell_type": "code",
   "execution_count": 2,
   "metadata": {},
   "outputs": [],
   "source": [
    "#Tallying words in subsampled data\n",
    "counts = Counter()\n",
    "\n",
    "for x in range(1, 5):\n",
    "    with open(f'D:\\\\dstore\\\\nlp\\\\w2v\\\\vtrain{x}', 'rb') as f:\n",
    "        word_array = pickle.load(f)\n",
    "    for y in word_array:\n",
    "        for z in y:\n",
    "            counts[z] += 1\n",
    "\n",
    "del word_array\n",
    "all_words = np.array([x for x in counts])\n",
    "\n",
    "with open('word_list', 'wb') as f:\n",
    "    pickle.dump(all_words, f)"
   ]
  },
  {
   "cell_type": "code",
   "execution_count": 3,
   "metadata": {},
   "outputs": [],
   "source": [
    "#Generating word index dictionary\n",
    "with open(f'word_list', 'rb') as f:\n",
    "    all_words = pickle.load(f)\n",
    "\n",
    "np.random.shuffle(all_words)\n",
    "wordids = {x: i  for i, x in enumerate(all_words)}\n",
    "\n",
    "with open(f'word_list_i', 'wb') as f:\n",
    "    pickle.dump(wordids, f)"
   ]
  }
 ],
 "metadata": {
  "kernelspec": {
   "display_name": "Python 3.10.4 64-bit",
   "language": "python",
   "name": "python3"
  },
  "language_info": {
   "codemirror_mode": {
    "name": "ipython",
    "version": 3
   },
   "file_extension": ".py",
   "mimetype": "text/x-python",
   "name": "python",
   "nbconvert_exporter": "python",
   "pygments_lexer": "ipython3",
   "version": "3.10.4"
  },
  "orig_nbformat": 4,
  "vscode": {
   "interpreter": {
    "hash": "a5a031010b1865a23c8ecad84a31bb65ec3bf0e64be1ddea340d48586579fa20"
   }
  }
 },
 "nbformat": 4,
 "nbformat_minor": 2
}
