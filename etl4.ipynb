{
 "cells": [
  {
   "cell_type": "code",
   "execution_count": 1,
   "metadata": {},
   "outputs": [],
   "source": [
    "import btk\n",
    "import numpy as np\n",
    "import pickle\n",
    "\n",
    "from collections import Counter\n",
    "from tqdm import tqdm"
   ]
  },
  {
   "cell_type": "code",
   "execution_count": 2,
   "metadata": {},
   "outputs": [],
   "source": [
    "version = 'x5'\n",
    "with open(f'D:/dstore/nlp/w2v/wlst-{version}', 'rb') as f:\n",
    "    wlst = pickle.load(f)\n",
    "\n",
    "with open(r'D:\\dstore\\nlp\\w2v\\wcounts', 'rt', encoding='utf8') as f:\n",
    "    bwlst = Counter({f'_{x.strip().split()[1]}_': int(x.strip().split()[0]) for x in f.readlines() if int(x.strip().split()[0]) > 9})\n",
    "\n",
    "with open(f'D:/dstore/nlp/w2v/uwlst', 'rb') as f:\n",
    "    cnts = pickle.load(f)\n",
    "\n",
    "for n in range(3, 8):\n",
    "    scale = (np.mean([x[1] for x in cnts.most_common() if len(x[0]) == n]) ** (3.333 / (2 + (n/4)))) / 2\n",
    "    for x in cnts:\n",
    "        if len(x) == n:\n",
    "            cnts[x] = int(cnts[x] / scale)\n",
    "for x in cnts:\n",
    "    if cnts[x] < 1:\n",
    "        cnts[x] += 1\n",
    "\n",
    "with open(f'D:/dstore/nlp/w2v/bwlst', 'rb') as f:\n",
    "    bcnts = pickle.load(f)\n",
    "\n",
    "affs = set()\n",
    "\n",
    "with open(r'D:\\dstore\\nlp\\w2v\\prefs2', 'rt', encoding='utf8') as f:\n",
    "    affs = {x.strip() for x in f.readlines()}\n",
    "\n",
    "with open(r'D:\\dstore\\nlp\\w2v\\suffs2', 'rt', encoding='utf8') as f:\n",
    "    for x in f.readlines():\n",
    "        affs.add(x.strip())\n",
    "\n",
    "esuf = ('d_', 'r_', 's_', 'n_', \"'d_\", \"'s_\", \"'n_\", \"'t_\", 'er_', 'ed_', 'es_')\n",
    "doubles = ('ll', 'tt', 'pp', 'mm', 'nn', 'bb', 'ss', 'dd', 'gg')\n",
    "ysufs = ('ifies_', 'ities_', 'ies_', 'ied', 'iful_', 'iness_')\n",
    "\n",
    "def fragment(word: str):\n",
    "    if word in wlst:\n",
    "        return [word]\n",
    "    queue = []\n",
    "    finished = []\n",
    "    keys = []\n",
    "    for suf in esuf:\n",
    "        if suf in word:\n",
    "            k = ([suf], word.replace(suf, '_'))\n",
    "            keys.append(k)\n",
    "            queue.append((*k, affs.copy()))\n",
    "            finished.append(tuple(sorted([suf, word.replace(suf, '_')])))\n",
    "    for item in queue[::-1]:\n",
    "        for suf in esuf:\n",
    "            if suf in item[1]:\n",
    "                k = (sorted([*item[0], suf]), item[1].replace(suf, '_'))\n",
    "                if k not in keys:\n",
    "                    keys.append(k)\n",
    "                    queue.append((*k, item[2]))\n",
    "                fin = tuple(sorted([item[0][0], suf, item[1].replace(suf, '_')]))\n",
    "                if fin not in finished:\n",
    "                    finished.append(fin)\n",
    "    queue.append(([], word, affs.copy()))\n",
    "    while queue:\n",
    "        item = queue.pop(0)\n",
    "        found = False\n",
    "        for affix in item[2]:\n",
    "            if affix in item[1]:\n",
    "                found = True\n",
    "                if affix in ysufs:\n",
    "                    k = (sorted([*item[0], affix]), item[1].replace(affix, 'y_'))\n",
    "                else:\n",
    "                    k = (sorted([*item[0], affix]), item[1].replace(affix, '_'))\n",
    "                if k not in keys:\n",
    "                    if k[1][1:3] in doubles:\n",
    "                        mod = list(k[1])\n",
    "                        mod.pop(1)\n",
    "                        k = (k[0], ''.join(mod))\n",
    "                    if k[1][-3:-1] in doubles:\n",
    "                        mod = list(k[1])\n",
    "                        mod.pop(-2)\n",
    "                        k = (k[0], ''.join(mod))\n",
    "                    aff_copy = item[2].copy()\n",
    "                    keys.append(k)\n",
    "                    aff_copy.remove(affix)\n",
    "                    queue.append((*k, aff_copy))\n",
    "                fin = [x for x in k[0]]\n",
    "                fin.append(k[1])\n",
    "                fin = tuple(sorted(fin))\n",
    "                if fin not in finished:\n",
    "                    finished.append(fin)\n",
    "        if not found:\n",
    "            fin = [x for x in item[0]]\n",
    "            fin.append(item[1])\n",
    "            fin = tuple(sorted(fin))\n",
    "            if fin not in finished:\n",
    "                finished.append(fin)\n",
    "    flen = len(finished) - 1\n",
    "    for i, x in enumerate(finished[::-1]):\n",
    "        xscore = 0\n",
    "        for y in x:\n",
    "            if y.strip('_') in cnts:\n",
    "                xscore += cnts[y.strip('_')]\n",
    "        finished[flen-i] = (xscore, x)\n",
    "    finished = sorted(finished, key=lambda x: x[0], reverse=True)\n",
    "    outp = []\n",
    "    for x in finished[:4]:\n",
    "        outp.extend(x[1])\n",
    "    return outp\n"
   ]
  },
  {
   "cell_type": "code",
   "execution_count": null,
   "metadata": {},
   "outputs": [],
   "source": [
    "short_words = [x for x in bwlst.most_common() if len(x[0]) < 6 and x[1] > 256]"
   ]
  },
  {
   "cell_type": "code",
   "execution_count": null,
   "metadata": {},
   "outputs": [],
   "source": [
    "[x for x in bcnts.most_common() if len(x[0]) == 4 and x[0][0] == '_']"
   ]
  },
  {
   "cell_type": "code",
   "execution_count": null,
   "metadata": {},
   "outputs": [],
   "source": [
    "[x for x in bwlst.most_common() if len(x[0]) == 5 and x[0][0] == '_' and x[0][-1] == '_']"
   ]
  },
  {
   "cell_type": "code",
   "execution_count": 20,
   "metadata": {},
   "outputs": [
    {
     "data": {
      "text/plain": [
       "155555"
      ]
     },
     "execution_count": 20,
     "metadata": {},
     "output_type": "execute_result"
    }
   ],
   "source": [
    "caffs = {x.strip('_') for x in affs}\n",
    "len([x for x in final_frags.most_common() if x[0].strip('_') not in caffs and len(x[0].strip('_')) > 2])"
   ]
  },
  {
   "cell_type": "code",
   "execution_count": null,
   "metadata": {},
   "outputs": [],
   "source": [
    "tword = '_bacteriophage_'\n",
    "fragment(tword)"
   ]
  },
  {
   "cell_type": "code",
   "execution_count": null,
   "metadata": {},
   "outputs": [],
   "source": [
    "c = np.random.randint(0, len(bwlst) - 101)\n",
    "[fragment(x[0]) for x in bwlst.most_common()[c:c+20]]"
   ]
  },
  {
   "cell_type": "code",
   "execution_count": null,
   "metadata": {},
   "outputs": [],
   "source": [
    "fix = 'dom'\n",
    "targ = [x for x in bwlst.most_common() if fix in x[0]]\n",
    "\n",
    "tlen = len(fix)\n",
    "ncount = Counter()\n",
    "\n",
    "for x in targ:\n",
    "    if fix[0] == '_':\n",
    "        ncount[x[0][:tlen+1]] += x[1] * len([y for y in targ if x[0][:tlen+1] in y[0]])\n",
    "    else:\n",
    "        ncount[x[0][len(x[0]) - 1 - tlen:]] += x[1] * len([y for y in targ if x[0][len(y[0]) - 1 - tlen:] in y[0]])\n",
    "\n",
    "for x in ncount.most_common()[:8]: print(x)\n",
    "print('\\n')\n",
    "\n",
    "for x in targ[:64]:\n",
    "    print(x)"
   ]
  },
  {
   "cell_type": "code",
   "execution_count": 11,
   "metadata": {},
   "outputs": [
    {
     "name": "stdout",
     "output_type": "stream",
     "text": [
      "323.2823342054374\n",
      "42.49057119965607\n",
      "11.874224257866846\n",
      "5.461737040443904\n",
      "2.6007610127323284\n",
      "\n",
      "\n",
      "550.2795276912724\n",
      "32.21091404182568\n",
      "6.324395425954965\n",
      "2.518370244579201\n",
      "1.1692605061876833\n"
     ]
    }
   ],
   "source": [
    "with open(f'D:/dstore/nlp/w2v/uwlst', 'rb') as f:\n",
    "    cnts = pickle.load(f)\n",
    "\n",
    "for n in range(3, 8):\n",
    "    print(np.mean([x[1] for x in cnts.most_common() if len(x[0]) == n]))\n",
    "print('\\n')\n",
    "for n in range(3, 8):\n",
    "    print((np.mean([x[1] for x in cnts.most_common() if len(x[0]) == n]) ** (3.333 / (2 + (n/4))) / 2))"
   ]
  },
  {
   "cell_type": "code",
   "execution_count": null,
   "metadata": {},
   "outputs": [],
   "source": [
    "cnts.most_common()[:64]"
   ]
  },
  {
   "cell_type": "code",
   "execution_count": null,
   "metadata": {},
   "outputs": [],
   "source": [
    "[x for x in bcnts.most_common() if len(x[0]) > 2 and x[0] not in affs][:64]"
   ]
  },
  {
   "cell_type": "code",
   "execution_count": null,
   "metadata": {},
   "outputs": [],
   "source": [
    "[(x[0], x[0].replace('ically_', '')) for x in wlst.most_common() if 'ically' in x[0]]"
   ]
  }
 ],
 "metadata": {
  "kernelspec": {
   "display_name": "Python 3.10.4 64-bit",
   "language": "python",
   "name": "python3"
  },
  "language_info": {
   "codemirror_mode": {
    "name": "ipython",
    "version": 3
   },
   "file_extension": ".py",
   "mimetype": "text/x-python",
   "name": "python",
   "nbconvert_exporter": "python",
   "pygments_lexer": "ipython3",
   "version": "3.10.4"
  },
  "orig_nbformat": 4,
  "vscode": {
   "interpreter": {
    "hash": "a5a031010b1865a23c8ecad84a31bb65ec3bf0e64be1ddea340d48586579fa20"
   }
  }
 },
 "nbformat": 4,
 "nbformat_minor": 2
}
