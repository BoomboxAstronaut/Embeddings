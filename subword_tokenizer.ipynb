{
 "cells": [
  {
   "cell_type": "code",
   "execution_count": 1,
   "metadata": {},
   "outputs": [],
   "source": [
    "import numpy as np\n",
    "import pickle\n",
    "from collections import Counter\n"
   ]
  },
  {
   "cell_type": "code",
   "execution_count": 40,
   "metadata": {},
   "outputs": [],
   "source": [
    "version = 'x5'\n",
    "with open(f'D:/dstore/nlp/w2v/wlst-{version}', 'rb') as f:\n",
    "    wlst = pickle.load(f)\n",
    "wlst = {' '.join(list(x)).replace('_ ', '_').replace(' _', '_') for x in wlst}\n",
    "\n",
    "\n",
    "\"\"\" with open(r'D:\\dstore\\nlp\\w2v\\wcounts', 'rt', encoding='utf8') as f:\n",
    "    owlst = Counter({x.strip().split()[1]: x.strip().split()[0] for x in f.readlines()}) \"\"\"\n",
    "\n",
    "\"\"\" with open(f'D:/dstore/nlp/w2v/subw-{version}', 'rb') as f:\n",
    "    subwords = pickle.load(f) \"\"\"\n",
    "\n",
    "with open(f'D:/dstore/nlp/w2v/pwlst', 'rb') as f:\n",
    "    subwords = pickle.load(f)\n",
    "subwords = [' '.join(list(x)).replace('_ ', '_').replace(' _', '_') for x in subwords]\n",
    "\n",
    "with open(f'D:/dstore/nlp/w2v/cwlst', 'rb') as f:\n",
    "    cwords = pickle.load(f)\n",
    "cwords = [' '.join(list(x[0])) for x in cwords]\n",
    "\n",
    "with open(r'D:\\dstore\\nlp\\w2v\\wcounts16', 'rt', encoding='utf8') as f:\n",
    "    twords = [f'_{\" \".join(list(x.strip().split()[1]))}_' for x in f.readlines()]\n",
    "\n",
    "alpha = subwords[::-1][:29]\n",
    "subwords = subwords[::-1][29:][::-1]\n",
    "\n",
    "def fragment(word):\n",
    "    if word in wlst:\n",
    "        return ''.join(word.split())\n",
    "    tracker = word\n",
    "    for x in cwords:\n",
    "        if x in tracker:\n",
    "            tracker = tracker.replace(x, ' ').strip()\n",
    "            word = word.replace(x, ''.join(x.split())).strip()\n",
    "    for x in subwords:\n",
    "        if x in tracker:\n",
    "            tracker = tracker.replace(x, ' ').strip()\n",
    "            word = word.replace(x, ''.join(x.split())).strip()\n",
    "    \"\"\" for x in list(tracker):\n",
    "        if x not in subwords:\n",
    "            word = word.replace(x, ' [UNK] ').strip() \"\"\"\n",
    "    while '  ' in word:\n",
    "        word = word.replace('  ', ' ')\n",
    "    word = word.replace('_ ', '_').replace(' _', '_')\n",
    "    return word\n"
   ]
  },
  {
   "cell_type": "code",
   "execution_count": 38,
   "metadata": {},
   "outputs": [],
   "source": [
    "if '_j i h a d i_' in wlst: print('yes')"
   ]
  },
  {
   "cell_type": "code",
   "execution_count": 1,
   "metadata": {},
   "outputs": [
    {
     "ename": "NameError",
     "evalue": "name 'np' is not defined",
     "output_type": "error",
     "traceback": [
      "\u001b[1;31m---------------------------------------------------------------------------\u001b[0m",
      "\u001b[1;31mNameError\u001b[0m                                 Traceback (most recent call last)",
      "\u001b[1;32mc:\\Users\\BBA\\Coding\\NLP\\Embeddings\\subword_tokenizer.ipynb Cell 4\u001b[0m in \u001b[0;36m<cell line: 1>\u001b[1;34m()\u001b[0m\n\u001b[1;32m----> <a href='vscode-notebook-cell:/c%3A/Users/BBA/Coding/NLP/Embeddings/subword_tokenizer.ipynb#W4sZmlsZQ%3D%3D?line=0'>1</a>\u001b[0m choice \u001b[39m=\u001b[39m np\u001b[39m.\u001b[39mrandom\u001b[39m.\u001b[39mrandint(\u001b[39m0\u001b[39m, \u001b[39mlen\u001b[39m(twords))\n\u001b[0;32m      <a href='vscode-notebook-cell:/c%3A/Users/BBA/Coding/NLP/Embeddings/subword_tokenizer.ipynb#W4sZmlsZQ%3D%3D?line=1'>2</a>\u001b[0m \u001b[39mfor\u001b[39;00m x \u001b[39min\u001b[39;00m twords[::\u001b[39m-\u001b[39m\u001b[39m1\u001b[39m][choice:choice\u001b[39m+\u001b[39m\u001b[39m100\u001b[39m]:\n\u001b[0;32m      <a href='vscode-notebook-cell:/c%3A/Users/BBA/Coding/NLP/Embeddings/subword_tokenizer.ipynb#W4sZmlsZQ%3D%3D?line=2'>3</a>\u001b[0m     \u001b[39mprint\u001b[39m(fragment(x))\n",
      "\u001b[1;31mNameError\u001b[0m: name 'np' is not defined"
     ]
    }
   ],
   "source": [
    "choice = np.random.randint(0, len(twords))\n",
    "for x in twords[::-1][choice:choice+100]:\n",
    "    print(fragment(x))"
   ]
  }
 ],
 "metadata": {
  "kernelspec": {
   "display_name": "Python 3.10.4 64-bit",
   "language": "python",
   "name": "python3"
  },
  "language_info": {
   "codemirror_mode": {
    "name": "ipython",
    "version": 3
   },
   "file_extension": ".py",
   "mimetype": "text/x-python",
   "name": "python",
   "nbconvert_exporter": "python",
   "pygments_lexer": "ipython3",
   "version": "3.10.4"
  },
  "orig_nbformat": 4,
  "vscode": {
   "interpreter": {
    "hash": "a5a031010b1865a23c8ecad84a31bb65ec3bf0e64be1ddea340d48586579fa20"
   }
  }
 },
 "nbformat": 4,
 "nbformat_minor": 2
}
