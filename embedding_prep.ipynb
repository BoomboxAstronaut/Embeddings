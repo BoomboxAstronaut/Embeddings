{
 "cells": [
  {
   "cell_type": "code",
   "execution_count": 1,
   "metadata": {},
   "outputs": [],
   "source": [
    "import numpy as np\n",
    "#import collections\n",
    "import pickle\n"
   ]
  },
  {
   "cell_type": "code",
   "execution_count": 2,
   "metadata": {},
   "outputs": [],
   "source": [
    "with open(r'D:\\dstore\\nlp\\w2v\\wcounts', 'r', encoding='utf-8') as f:\n",
    "    wcounts = [x.split() for x in f.readlines()]\n",
    "wcounts = {x[1]: int(x[0]) for x in wcounts if int(x[0]) > 15}\n",
    "excess = {x[0]: (10000 / x[1]) ** 0.666 for x in wcounts.items() if x[1] > 10000}"
   ]
  },
  {
   "cell_type": "code",
   "execution_count": 3,
   "metadata": {},
   "outputs": [],
   "source": [
    "\n",
    "for ft in range(1, 7):\n",
    "\n",
    "    with open(f'D:\\\\dstore\\\\nlp\\\\w2v\\\\vtrainx_{ft}', 'r', encoding='utf-8') as f:\n",
    "        words1 = [x.strip('\\n').split() for x in f.readlines()]\n",
    "\n",
    "    cwords = []\n",
    "    while words1:\n",
    "        hold = words1.pop()\n",
    "        slen = len(hold)\n",
    "        for i, x in enumerate(hold[::-1]):\n",
    "            if x in excess:\n",
    "                if rng.random() > excess[x]:\n",
    "                    hold.pop(slen - i - 1)\n",
    "        if len(hold) > 2:\n",
    "            cwords.append(hold)\n",
    "\n",
    "    with open(f'vtrain{ft}', 'wb') as f:\n",
    "        pickle.dump(cwords, f)\n",
    "        \n",
    "del cwords, words1"
   ]
  },
  {
   "cell_type": "code",
   "execution_count": 2,
   "metadata": {},
   "outputs": [],
   "source": [
    "\n",
    "counts = collections.Counter()\n",
    "\n",
    "for x in range(1, 7):\n",
    "    with open(f'D:\\\\dstore\\\\nlp\\\\w2v\\\\vtrain{x}', 'rb') as f:\n",
    "        word_array = pickle.load(f)\n",
    "    for y in word_array:\n",
    "        for z in y:\n",
    "            counts[z] += 1\n",
    "\n",
    "del word_array\n",
    "all_words = np.array([x for x in counts])"
   ]
  },
  {
   "cell_type": "code",
   "execution_count": 34,
   "metadata": {},
   "outputs": [],
   "source": [
    "with open(f'word_list', 'rb') as f:\n",
    "    all_words = pickle.load(f)\n",
    "\n",
    "np.random.shuffle(all_words)\n",
    "wordids = {x: i  for i, x in enumerate(all_words)}\n",
    "\n",
    "with open(f'word_list_i', 'wb') as f:\n",
    "    pickle.dump(wordids, f)"
   ]
  },
  {
   "cell_type": "code",
   "execution_count": 28,
   "metadata": {},
   "outputs": [],
   "source": [
    "with open(f'D:\\\\dstore\\\\nlp\\\\w2v\\\\vtrain1', 'rb') as f:\n",
    "    warray = pickle.load(f)"
   ]
  },
  {
   "cell_type": "code",
   "execution_count": 2,
   "metadata": {},
   "outputs": [],
   "source": [
    "def sen_to_data(sentence: list[str], skip_dist) -> list[tuple[str, str, int]]:\n",
    "    senlen = len(sentence)\n",
    "    hold = []\n",
    "    for i, x in enumerate(sentence):\n",
    "        pos = []\n",
    "        neg = []\n",
    "        ioptions = [*range(max(i - skip_dist, 0), i), *range(i+1, min(i + skip_dist, senlen))]\n",
    "        for _ in range(4):\n",
    "            wchoice = rng.integers(0, 5984362)\n",
    "            while wchoice in sentence:\n",
    "                wchoice = rng.integers(0, 5984362)\n",
    "            pos.append(sentence[rng.choice(ioptions)])\n",
    "            neg.append(wchoice)\n",
    "        hold.append((x, pos, neg))\n",
    "    return hold\n",
    "\n",
    "rng = np.random.default_rng()"
   ]
  },
  {
   "cell_type": "code",
   "execution_count": null,
   "metadata": {},
   "outputs": [],
   "source": [
    "with open(f'word_list_i', 'rb') as f:\n",
    "    all_words = pickle.load(f)\n",
    "\n",
    "for z in range(1, 5):\n",
    "    tdata = []\n",
    "    with open(f'D:\\\\dstore\\\\nlp\\\\w2v\\\\vtrain{z}', 'rb') as f:\n",
    "        warray = pickle.load(f)\n",
    "    warray = [[all_words[y] for y in x] for x in warray]\n",
    "\n",
    "    for w in warray:\n",
    "        sdata = sen_to_data(w, 5)\n",
    "        for d in sdata:\n",
    "            tdata.append(d)\n",
    "\n",
    "    with open(f'D:\\\\dstore\\\\nlp\\\\w2v\\\\train{z}', 'wb') as f:\n",
    "        pickle.dump(tdata, f)\n",
    "\n",
    "del tdata, warray, all_words"
   ]
  },
  {
   "cell_type": "code",
   "execution_count": 4,
   "metadata": {},
   "outputs": [],
   "source": [
    "with open(f'word_list_i', 'rb') as f:\n",
    "    all_words = pickle.load(f)\n",
    "\n",
    "tdata = []\n",
    "with open(f'D:\\\\dstore\\\\nlp\\\\w2v\\\\vtrain{1}', 'rb') as f:\n",
    "    warray = pickle.load(f)\n",
    "warray = [[all_words[y] for y in x] for x in warray]\n",
    "\n"
   ]
  },
  {
   "cell_type": "code",
   "execution_count": 7,
   "metadata": {},
   "outputs": [],
   "source": [
    "for w in warray:\n",
    "    sdata = sen_to_data(w, 5)\n",
    "    for d in sdata:\n",
    "        tdata.append(d)\n",
    "\n",
    "with open(f'D:\\\\dstore\\\\nlp\\\\w2v\\\\train{1}-1', 'wb') as f:\n",
    "    pickle.dump(tdata, f)"
   ]
  },
  {
   "cell_type": "code",
   "execution_count": 8,
   "metadata": {},
   "outputs": [],
   "source": [
    "tdata = []\n",
    "with open(f'D:\\\\dstore\\\\nlp\\\\w2v\\\\vtrain{1}', 'rb') as f:\n",
    "    warray = pickle.load(f)\n",
    "warray = [[all_words[y] for y in x] for x in warray]\n",
    "\n",
    "warray = warray[5582497:]\n",
    "\n",
    "for w in warray:\n",
    "    sdata = sen_to_data(w, 5)\n",
    "    for d in sdata:\n",
    "        tdata.append(d)\n",
    "\n",
    "with open(f'D:\\\\dstore\\\\nlp\\\\w2v\\\\train{1}-2', 'wb') as f:\n",
    "    pickle.dump(tdata, f)"
   ]
  }
 ],
 "metadata": {
  "kernelspec": {
   "display_name": "Python 3.10.4 64-bit",
   "language": "python",
   "name": "python3"
  },
  "language_info": {
   "codemirror_mode": {
    "name": "ipython",
    "version": 3
   },
   "file_extension": ".py",
   "mimetype": "text/x-python",
   "name": "python",
   "nbconvert_exporter": "python",
   "pygments_lexer": "ipython3",
   "version": "3.10.4"
  },
  "orig_nbformat": 4,
  "vscode": {
   "interpreter": {
    "hash": "a5a031010b1865a23c8ecad84a31bb65ec3bf0e64be1ddea340d48586579fa20"
   }
  }
 },
 "nbformat": 4,
 "nbformat_minor": 2
}
